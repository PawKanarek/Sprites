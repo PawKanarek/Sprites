{
 "cells": [
  {
   "cell_type": "code",
   "execution_count": 1,
   "metadata": {},
   "outputs": [],
   "source": [
    "from PIL import Image\n",
    "import sys, os\n",
    "import numpy as np\n",
    "import imageio\n",
    "from scipy import ndimage\n"
   ]
  },
  {
   "cell_type": "code",
   "execution_count": 13,
   "metadata": {},
   "outputs": [
    {
     "name": "stdout",
     "output_type": "stream",
     "text": [
      "saving as frames/sequence/0000_slash_front.png\n",
      "saving as frames/sequence/0000_slash_left.png\n",
      "saving as frames/sequence/0000_slash_right.png\n",
      "saving as frames/sequence/0000_spellcard_front.png\n",
      "saving as frames/sequence/0000_spellcard_left.png\n",
      "saving as frames/sequence/0000_spellcard_right.png\n",
      "saving as frames/sequence/0000_walk_front.png\n",
      "saving as frames/sequence/0000_walk_left.png\n",
      "saving as frames/sequence/0000_walk_right.png\n",
      "saving as frames/sequence/0001_slash_front.png\n",
      "saving as frames/sequence/0001_slash_left.png\n",
      "saving as frames/sequence/0001_slash_right.png\n",
      "saving as frames/sequence/0001_spellcard_front.png\n",
      "saving as frames/sequence/0001_spellcard_left.png\n",
      "saving as frames/sequence/0001_spellcard_right.png\n",
      "saving as frames/sequence/0001_walk_front.png\n",
      "saving as frames/sequence/0001_walk_left.png\n",
      "saving as frames/sequence/0001_walk_right.png\n",
      "saving as frames/sequence/0002_slash_front.png\n",
      "saving as frames/sequence/0002_slash_left.png\n",
      "saving as frames/sequence/0002_slash_right.png\n",
      "saving as frames/sequence/0002_spellcard_front.png\n",
      "saving as frames/sequence/0002_spellcard_left.png\n",
      "saving as frames/sequence/0002_spellcard_right.png\n",
      "saving as frames/sequence/0002_walk_front.png\n",
      "saving as frames/sequence/0002_walk_left.png\n",
      "saving as frames/sequence/0002_walk_right.png\n",
      "saving as frames/sequence/0003_slash_front.png\n",
      "saving as frames/sequence/0003_slash_left.png\n",
      "saving as frames/sequence/0003_slash_right.png\n",
      "saving as frames/sequence/0003_spellcard_front.png\n",
      "saving as frames/sequence/0003_spellcard_left.png\n",
      "saving as frames/sequence/0003_spellcard_right.png\n",
      "saving as frames/sequence/0003_walk_front.png\n",
      "saving as frames/sequence/0003_walk_left.png\n",
      "saving as frames/sequence/0003_walk_right.png\n",
      "saving as frames/sequence/0004_slash_front.png\n",
      "saving as frames/sequence/0004_slash_left.png\n",
      "saving as frames/sequence/0004_slash_right.png\n",
      "saving as frames/sequence/0004_spellcard_front.png\n",
      "saving as frames/sequence/0004_spellcard_left.png\n",
      "saving as frames/sequence/0004_spellcard_right.png\n",
      "saving as frames/sequence/0004_walk_front.png\n",
      "saving as frames/sequence/0004_walk_left.png\n",
      "saving as frames/sequence/0004_walk_right.png\n",
      "saving as frames/sequence/0005_slash_front.png\n",
      "saving as frames/sequence/0005_slash_left.png\n",
      "saving as frames/sequence/0005_slash_right.png\n",
      "saving as frames/sequence/0005_spellcard_front.png\n",
      "saving as frames/sequence/0005_spellcard_left.png\n",
      "saving as frames/sequence/0005_spellcard_right.png\n",
      "saving as frames/sequence/0005_walk_front.png\n",
      "saving as frames/sequence/0005_walk_left.png\n",
      "saving as frames/sequence/0005_walk_right.png\n"
     ]
    }
   ],
   "source": [
    "img_list = []\n",
    "root = \"frames\"\n",
    "root_seq = os.path.join(root, \"sequence\")\n",
    "states = [\"slash\", \"spellcard\", \"walk\"]\n",
    "sides = [\"front\", \"left\", \"right\"]\n",
    "\n",
    "if not os.path.exists(root_seq):\n",
    "    os.makedirs(root_seq)\n",
    "\n",
    "for n in range(6):\n",
    "    for state in states: \n",
    "        for side in sides:\n",
    "            sequence = Image.new(\"RGBA\", (64*8, 64))\n",
    "            for i in range(8):\n",
    "                img_file = f\"{side}_{n:04d}_{i}.png\"\n",
    "                img_path = os.path.join(root, state, img_file);\n",
    "                frame = Image.open(img_path);\n",
    "                sequence.paste(frame, (i * 64, 0))\n",
    "            seq_path = os.path.join(root_seq, f\"{n:04d}_{state}_{side}.png\");\n",
    "            sequence.save(seq_path)\n",
    "            "
   ]
  }
 ],
 "metadata": {
  "kernelspec": {
   "display_name": "pyenv1",
   "language": "python",
   "name": "python3"
  },
  "language_info": {
   "codemirror_mode": {
    "name": "ipython",
    "version": 3
   },
   "file_extension": ".py",
   "mimetype": "text/x-python",
   "name": "python",
   "nbconvert_exporter": "python",
   "pygments_lexer": "ipython3",
   "version": "3.10.11"
  }
 },
 "nbformat": 4,
 "nbformat_minor": 2
}
